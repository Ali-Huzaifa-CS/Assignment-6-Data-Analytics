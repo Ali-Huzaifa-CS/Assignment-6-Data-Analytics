{
 "cells": [
  {
   "cell_type": "code",
   "execution_count": 5,
   "id": "e06500a2-ba72-4da9-b964-0ccd190db561",
   "metadata": {},
   "outputs": [],
   "source": [
    "# Write a Python program to guess a number between 1 and 9.\n",
    "# Note : User is prompted to enter a guess. If the user guesses wrong then\n",
    "# the prompt appears again until the guess is correct, on successful guess,\n",
    "# user will get a \"Well guessed!\" message, and the program will exit."
   ]
  },
  {
   "cell_type": "code",
   "execution_count": 9,
   "id": "2b4dec36-bfc3-43a0-9d1c-2ef6a81f0715",
   "metadata": {},
   "outputs": [
    {
     "name": "stdout",
     "output_type": "stream",
     "text": [
      "Guess a Number between 1 and 9 \n"
     ]
    },
    {
     "name": "stdin",
     "output_type": "stream",
     "text": [
      "Enter your guess number  4\n"
     ]
    },
    {
     "name": "stdout",
     "output_type": "stream",
     "text": [
      "try again \n"
     ]
    },
    {
     "name": "stdin",
     "output_type": "stream",
     "text": [
      "Enter your guess number  5\n"
     ]
    },
    {
     "name": "stdout",
     "output_type": "stream",
     "text": [
      "Well guessed! \n"
     ]
    }
   ],
   "source": [
    "print(\"Guess a Number between 1 and 9 \")\n",
    "correct_num = 5\n",
    "\n",
    "while(True):\n",
    "    guess_num = int(input(\"Enter your guess number \"))\n",
    "    if(guess_num == correct_num):\n",
    "        print(\"Well guessed! \")\n",
    "        break\n",
    "    else:\n",
    "        print(\"try again \")"
   ]
  },
  {
   "cell_type": "code",
   "execution_count": null,
   "id": "a29c9942-a8b4-49f5-a8cd-df552c3a3814",
   "metadata": {},
   "outputs": [],
   "source": []
  },
  {
   "cell_type": "code",
   "execution_count": null,
   "id": "85256e44-2e32-4311-8345-800c5e72903c",
   "metadata": {},
   "outputs": [],
   "source": []
  },
  {
   "cell_type": "code",
   "execution_count": null,
   "id": "bdb2aca3-9c0f-4cbd-85a1-d2fe0d485109",
   "metadata": {},
   "outputs": [],
   "source": []
  }
 ],
 "metadata": {
  "kernelspec": {
   "display_name": "Python 3 (ipykernel)",
   "language": "python",
   "name": "python3"
  },
  "language_info": {
   "codemirror_mode": {
    "name": "ipython",
    "version": 3
   },
   "file_extension": ".py",
   "mimetype": "text/x-python",
   "name": "python",
   "nbconvert_exporter": "python",
   "pygments_lexer": "ipython3",
   "version": "3.12.4"
  }
 },
 "nbformat": 4,
 "nbformat_minor": 5
}
