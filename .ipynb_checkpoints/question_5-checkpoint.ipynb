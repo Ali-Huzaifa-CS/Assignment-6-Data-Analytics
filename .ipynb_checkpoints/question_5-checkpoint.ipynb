{
 "cells": [
  {
   "cell_type": "code",
   "execution_count": 1,
   "id": "db1e8393-d1be-4ca8-95c9-68a3e7f08f12",
   "metadata": {},
   "outputs": [],
   "source": [
    "# Write a  Python program to filter the height and width of students, which are stored in a dictionary."
   ]
  },
  {
   "cell_type": "code",
   "execution_count": 9,
   "id": "91b39aca-d08f-4789-8e4a-bb82eb322bce",
   "metadata": {},
   "outputs": [
    {
     "name": "stdout",
     "output_type": "stream",
     "text": [
      "[{'name': 'sufyan', 'height': 6.1, 'weight': 75}]\n"
     ]
    }
   ],
   "source": [
    "data = [{\"name\":\"Ali\",\"height\":5.7,\"weight\":80} ,{\"name\":\"sufyan\",\"height\":6.1,\"weight\":75}, {\"name\":\"umer\",\"height\":5.5,\"weight\":65}]\n",
    "\n",
    "display = []\n",
    "for person in data:\n",
    "    if(person[\"height\"] > 6 and person[\"weight\"] > 70):\n",
    "        display.append(person)\n",
    "        \n",
    "print(display)"
   ]
  },
  {
   "cell_type": "code",
   "execution_count": null,
   "id": "113ebea8-8414-4bf6-9dcd-4f47073fccb6",
   "metadata": {},
   "outputs": [],
   "source": []
  }
 ],
 "metadata": {
  "kernelspec": {
   "display_name": "Python 3 (ipykernel)",
   "language": "python",
   "name": "python3"
  },
  "language_info": {
   "codemirror_mode": {
    "name": "ipython",
    "version": 3
   },
   "file_extension": ".py",
   "mimetype": "text/x-python",
   "name": "python",
   "nbconvert_exporter": "python",
   "pygments_lexer": "ipython3",
   "version": "3.12.4"
  }
 },
 "nbformat": 4,
 "nbformat_minor": 5
}
