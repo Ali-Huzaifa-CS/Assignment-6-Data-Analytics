{
 "cells": [
  {
   "cell_type": "code",
   "execution_count": 1,
   "id": "f4be2ea2-d22b-4c34-8bfe-75ab188de810",
   "metadata": {},
   "outputs": [],
   "source": [
    "# Write a Python program to check whether an alphabet which is given by user\n",
    "# in input prompt is a vowel or consonant."
   ]
  },
  {
   "cell_type": "code",
   "execution_count": 9,
   "id": "4283b870-0639-4a1c-8652-04196052167c",
   "metadata": {},
   "outputs": [
    {
     "name": "stdin",
     "output_type": "stream",
     "text": [
      "Enter an alphabet  f\n"
     ]
    },
    {
     "name": "stdout",
     "output_type": "stream",
     "text": [
      "It's a consonant\n"
     ]
    }
   ],
   "source": [
    "alp = str(input(\"Enter an alphabet \"))\n",
    "\n",
    "if (alp == \"a\" or alp == \"e\" or alp == \"i\" or alp == \"o\" or alp == \"u\"):\n",
    "    print(\"It's a vowel\")\n",
    "else:\n",
    "    print(\"It's a consonant\")\n",
    "\n"
   ]
  },
  {
   "cell_type": "code",
   "execution_count": null,
   "id": "dc62beeb-8db7-477d-98e2-38d691ba5c3b",
   "metadata": {},
   "outputs": [],
   "source": []
  }
 ],
 "metadata": {
  "kernelspec": {
   "display_name": "Python 3 (ipykernel)",
   "language": "python",
   "name": "python3"
  },
  "language_info": {
   "codemirror_mode": {
    "name": "ipython",
    "version": 3
   },
   "file_extension": ".py",
   "mimetype": "text/x-python",
   "name": "python",
   "nbconvert_exporter": "python",
   "pygments_lexer": "ipython3",
   "version": "3.12.4"
  }
 },
 "nbformat": 4,
 "nbformat_minor": 5
}
