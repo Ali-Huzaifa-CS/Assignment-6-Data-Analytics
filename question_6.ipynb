{
 "cells": [
  {
   "cell_type": "code",
   "execution_count": 1,
   "id": "c56572f0-6db3-42af-9d45-fedc38ee68c7",
   "metadata": {},
   "outputs": [],
   "source": [
    "#  A  Python dictionary contains List as a value. Write a Python program to clear the list values in the said dictionary.\n",
    "# Original Dictionary:\n",
    "# {'C1': [10, 20, 30], 'C2': [20, 30, 40], 'C3': [12, 34]}\n",
    "# Clear the list values in the said dictionary:\n",
    "# {'C1': [], 'C2': [], 'C3': []}"
   ]
  },
  {
   "cell_type": "code",
   "execution_count": 14,
   "id": "3b7f8af6-6126-4800-b809-8a10ed359f18",
   "metadata": {},
   "outputs": [
    {
     "name": "stdout",
     "output_type": "stream",
     "text": [
      "{'C1': [], 'C2': [], 'C3': []}\n"
     ]
    }
   ],
   "source": [
    "original_dictionary = {'C1': [10, 20, 30], 'C2': [20, 30, 40], 'C3': [12, 34]}\n",
    "for i in original_dictionary:\n",
    "    original_dictionary[i].clear()\n",
    "print(original_dictionary)"
   ]
  },
  {
   "cell_type": "code",
   "execution_count": null,
   "id": "c9898e79-7f72-4eeb-bcc7-1e2558ed3b0d",
   "metadata": {},
   "outputs": [],
   "source": []
  },
  {
   "cell_type": "code",
   "execution_count": null,
   "id": "fb221b30-da81-4b9b-8240-7655226e724c",
   "metadata": {},
   "outputs": [],
   "source": []
  }
 ],
 "metadata": {
  "kernelspec": {
   "display_name": "Python 3 (ipykernel)",
   "language": "python",
   "name": "python3"
  },
  "language_info": {
   "codemirror_mode": {
    "name": "ipython",
    "version": 3
   },
   "file_extension": ".py",
   "mimetype": "text/x-python",
   "name": "python",
   "nbconvert_exporter": "python",
   "pygments_lexer": "ipython3",
   "version": "3.12.4"
  }
 },
 "nbformat": 4,
 "nbformat_minor": 5
}
