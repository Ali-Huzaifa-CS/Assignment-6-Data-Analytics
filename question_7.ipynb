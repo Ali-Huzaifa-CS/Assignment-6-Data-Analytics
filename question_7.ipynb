{
 "cells": [
  {
   "cell_type": "code",
   "execution_count": 1,
   "id": "052154cc-b803-4baf-a421-198c0d90b7f3",
   "metadata": {},
   "outputs": [],
   "source": [
    "#  Rivers: Make a dictionary containing three major rivers and the country\n",
    "# each river runs through. One key-value pair might be 'nile': 'egypt'.\n",
    "# • Use a loop to print a sentence about each river, such as The Nile runs\n",
    "# through Egypt.\n",
    "# • Use a loop to print the name of each river included in the dictionary.\n",
    "# • Use a loop to print the name of each country included in the dictionary."
   ]
  },
  {
   "cell_type": "code",
   "execution_count": 15,
   "id": "57ea3704-c315-4e4e-9f0a-73a95d8f2f4c",
   "metadata": {},
   "outputs": [
    {
     "name": "stdout",
     "output_type": "stream",
     "text": [
      "The Indus River runs through Pakistan.\n",
      "The Nile runs through Egypt.\n",
      "The Yellow River runs through China.\n",
      "\n",
      "Rivers:\n",
      "Indus River\n",
      "Nile\n",
      "Yellow River\n",
      "\n",
      "Countries:\n",
      "Pakistan\n",
      "Egypt\n",
      "China\n"
     ]
    }
   ],
   "source": [
    "rivers = {\"Indus River\":\"Pakistan\",\"Nile\": \"Egypt\",\"Yellow River\":\"China\"}\n",
    "\n",
    "for river, country in rivers.items():\n",
    "    print(f\"The {river} runs through {country}.\")\n",
    "\n",
    "print(\"\\nRivers:\")\n",
    "for river in rivers.keys():\n",
    "    print(river)\n",
    "\n",
    "print(\"\\nCountries:\")\n",
    "for country in rivers.values():\n",
    "    print(country)\n"
   ]
  },
  {
   "cell_type": "code",
   "execution_count": null,
   "id": "10027257-e634-4e80-937b-ba3d1554b772",
   "metadata": {},
   "outputs": [],
   "source": []
  }
 ],
 "metadata": {
  "kernelspec": {
   "display_name": "Python 3 (ipykernel)",
   "language": "python",
   "name": "python3"
  },
  "language_info": {
   "codemirror_mode": {
    "name": "ipython",
    "version": 3
   },
   "file_extension": ".py",
   "mimetype": "text/x-python",
   "name": "python",
   "nbconvert_exporter": "python",
   "pygments_lexer": "ipython3",
   "version": "3.12.4"
  }
 },
 "nbformat": 4,
 "nbformat_minor": 5
}
