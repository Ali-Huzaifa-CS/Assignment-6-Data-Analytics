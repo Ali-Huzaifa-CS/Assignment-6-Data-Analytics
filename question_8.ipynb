{
 "cells": [
  {
   "cell_type": "code",
   "execution_count": 1,
   "id": "d5ebbcbc-09b4-4f77-9bc9-ec1bde10765d",
   "metadata": {},
   "outputs": [],
   "source": [
    "#  Movie Tickets: A movie theater charges different ticket prices depending on\n",
    "# a person’s age. If a person is under the age of 3, the ticket is free; if they are\n",
    "# between 3 and 12, the ticket is $10; and if they are over age 12, the ticket is\n",
    "# $15. Write a loop in which you ask users their age, and then tell them the cost\n",
    "# of their movie ticket."
   ]
  },
  {
   "cell_type": "code",
   "execution_count": 11,
   "id": "c9257a37-6fe0-4af0-aafc-0c7395133587",
   "metadata": {},
   "outputs": [
    {
     "name": "stdin",
     "output_type": "stream",
     "text": [
      "Enter your age :  15\n"
     ]
    },
    {
     "name": "stdout",
     "output_type": "stream",
     "text": [
      "The ticket is $10\n"
     ]
    }
   ],
   "source": [
    "age = int(input(\"Enter your age : \"))\n",
    "if(age < 3):\n",
    "    print(\"The ticket is free \")\n",
    "elif(age < 12 or age < 12):\n",
    "    print(\"The ticket is $10\")\n",
    "elif(age >= 12):\n",
    "    print(\"The ticket is $15 \")\n",
    "    "
   ]
  },
  {
   "cell_type": "code",
   "execution_count": null,
   "id": "f49c1865-3ee0-4d6a-8a7e-171d29c49015",
   "metadata": {},
   "outputs": [],
   "source": []
  }
 ],
 "metadata": {
  "kernelspec": {
   "display_name": "Python 3 (ipykernel)",
   "language": "python",
   "name": "python3"
  },
  "language_info": {
   "codemirror_mode": {
    "name": "ipython",
    "version": 3
   },
   "file_extension": ".py",
   "mimetype": "text/x-python",
   "name": "python",
   "nbconvert_exporter": "python",
   "pygments_lexer": "ipython3",
   "version": "3.12.4"
  }
 },
 "nbformat": 4,
 "nbformat_minor": 5
}
